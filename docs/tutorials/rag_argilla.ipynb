{
 "cells": [
  {
   "cell_type": "markdown",
   "metadata": {},
   "source": [
    "# Create a RAG system expert in a Github repository and log your predictions in Argilla\n",
    "\n",
    "In this tutorial, we'll show you how to create a RAG system that can answer questions about an specific Github repository. As example, we will target the [Argilla repository](https://github.com/argilla-io/argilla). This RAG system will target the docs of the repository, as that's where most of the natural language information about the repository can be found.\n",
    "\n",
    "This tutorial includes the following steps:\n",
    "-   Setting up the Argilla callback handler for LlamaIndex.\n",
    "-   Initializing a Github client\n",
    "-   Creating an index with an specific set of files from the Github repository of our choice.\n",
    "-   Create a RAG system out of the Argilla repository, ask questions and automatically log the answers to Argilla.\n",
    "\n",
    "This tutorial is based on the [Github Repository Reader](https://docs.llamaindex.ai/en/stable/examples/data_connectors/GithubRepositoryReaderDemo/) made by LlamaIndex."
   ]
  },
  {
   "cell_type": "markdown",
   "metadata": {},
   "source": [
    "## Setup\n",
    "\n",
    "Firstly, you need to make sure that you have the `argilla-llama-index` integration installed. You can do so using `pip`."
   ]
  },
  {
   "cell_type": "code",
   "execution_count": 5,
   "metadata": {},
   "outputs": [
    {
     "name": "stdout",
     "output_type": "stream",
     "text": [
      "Requirement already satisfied: argilla-llama-index in /Users/ignacio/Documents/recognai/argilla-llama-index/.venv/lib/python3.10/site-packages (1.0.0)\n",
      "Collecting llama-index-callbacks-argilla\n",
      "  Downloading llama_index_callbacks_argilla-0.1.4-py3-none-any.whl.metadata (4.8 kB)\n",
      "Requirement already satisfied: argilla>=1.22.0 in /Users/ignacio/Documents/recognai/argilla-llama-index/.venv/lib/python3.10/site-packages (from argilla-llama-index) (1.28.0)\n",
      "Requirement already satisfied: llama-index>=0.10.0 in /Users/ignacio/Documents/recognai/argilla-llama-index/.venv/lib/python3.10/site-packages (from argilla-llama-index) (0.10.37)\n",
      "Requirement already satisfied: packaging>=23.2 in /Users/ignacio/Documents/recognai/argilla-llama-index/.venv/lib/python3.10/site-packages (from argilla-llama-index) (24.0)\n",
      "Requirement already satisfied: typing-extensions>=4.3.0 in /Users/ignacio/Documents/recognai/argilla-llama-index/.venv/lib/python3.10/site-packages (from argilla-llama-index) (4.11.0)\n",
      "Requirement already satisfied: llama-index-core<0.11.0,>=0.10.11.post1 in /Users/ignacio/Documents/recognai/argilla-llama-index/.venv/lib/python3.10/site-packages (from llama-index-callbacks-argilla) (0.10.37.post1)\n",
      "Requirement already satisfied: httpx<=0.26,>=0.15 in /Users/ignacio/Documents/recognai/argilla-llama-index/.venv/lib/python3.10/site-packages (from argilla>=1.22.0->argilla-llama-index) (0.26.0)\n",
      "Requirement already satisfied: deprecated~=1.2.0 in /Users/ignacio/Documents/recognai/argilla-llama-index/.venv/lib/python3.10/site-packages (from argilla>=1.22.0->argilla-llama-index) (1.2.14)\n",
      "Requirement already satisfied: pandas>=1.0.0 in /Users/ignacio/Documents/recognai/argilla-llama-index/.venv/lib/python3.10/site-packages (from argilla>=1.22.0->argilla-llama-index) (2.2.2)\n",
      "Requirement already satisfied: pydantic>=1.10.7 in /Users/ignacio/Documents/recognai/argilla-llama-index/.venv/lib/python3.10/site-packages (from argilla>=1.22.0->argilla-llama-index) (2.7.1)\n",
      "Requirement already satisfied: wrapt<1.15,>=1.13 in /Users/ignacio/Documents/recognai/argilla-llama-index/.venv/lib/python3.10/site-packages (from argilla>=1.22.0->argilla-llama-index) (1.14.1)\n",
      "Requirement already satisfied: numpy<1.24.0 in /Users/ignacio/Documents/recognai/argilla-llama-index/.venv/lib/python3.10/site-packages (from argilla>=1.22.0->argilla-llama-index) (1.23.5)\n",
      "Requirement already satisfied: tqdm>=4.27.0 in /Users/ignacio/Documents/recognai/argilla-llama-index/.venv/lib/python3.10/site-packages (from argilla>=1.22.0->argilla-llama-index) (4.66.4)\n",
      "Requirement already satisfied: backoff in /Users/ignacio/Documents/recognai/argilla-llama-index/.venv/lib/python3.10/site-packages (from argilla>=1.22.0->argilla-llama-index) (2.2.1)\n",
      "Requirement already satisfied: monotonic in /Users/ignacio/Documents/recognai/argilla-llama-index/.venv/lib/python3.10/site-packages (from argilla>=1.22.0->argilla-llama-index) (1.6)\n",
      "Requirement already satisfied: rich!=13.1.0 in /Users/ignacio/Documents/recognai/argilla-llama-index/.venv/lib/python3.10/site-packages (from argilla>=1.22.0->argilla-llama-index) (13.7.1)\n",
      "Requirement already satisfied: typer<0.10.0,>=0.6.0 in /Users/ignacio/Documents/recognai/argilla-llama-index/.venv/lib/python3.10/site-packages (from argilla>=1.22.0->argilla-llama-index) (0.9.4)\n",
      "Requirement already satisfied: llama-index-agent-openai<0.3.0,>=0.1.4 in /Users/ignacio/Documents/recognai/argilla-llama-index/.venv/lib/python3.10/site-packages (from llama-index>=0.10.0->argilla-llama-index) (0.2.5)\n",
      "Requirement already satisfied: llama-index-cli<0.2.0,>=0.1.2 in /Users/ignacio/Documents/recognai/argilla-llama-index/.venv/lib/python3.10/site-packages (from llama-index>=0.10.0->argilla-llama-index) (0.1.12)\n",
      "Requirement already satisfied: llama-index-embeddings-openai<0.2.0,>=0.1.5 in /Users/ignacio/Documents/recognai/argilla-llama-index/.venv/lib/python3.10/site-packages (from llama-index>=0.10.0->argilla-llama-index) (0.1.9)\n",
      "Requirement already satisfied: llama-index-indices-managed-llama-cloud<0.2.0,>=0.1.2 in /Users/ignacio/Documents/recognai/argilla-llama-index/.venv/lib/python3.10/site-packages (from llama-index>=0.10.0->argilla-llama-index) (0.1.6)\n",
      "Requirement already satisfied: llama-index-legacy<0.10.0,>=0.9.48 in /Users/ignacio/Documents/recognai/argilla-llama-index/.venv/lib/python3.10/site-packages (from llama-index>=0.10.0->argilla-llama-index) (0.9.48)\n",
      "Requirement already satisfied: llama-index-llms-openai<0.2.0,>=0.1.13 in /Users/ignacio/Documents/recognai/argilla-llama-index/.venv/lib/python3.10/site-packages (from llama-index>=0.10.0->argilla-llama-index) (0.1.19)\n",
      "Requirement already satisfied: llama-index-multi-modal-llms-openai<0.2.0,>=0.1.3 in /Users/ignacio/Documents/recognai/argilla-llama-index/.venv/lib/python3.10/site-packages (from llama-index>=0.10.0->argilla-llama-index) (0.1.6)\n",
      "Requirement already satisfied: llama-index-program-openai<0.2.0,>=0.1.3 in /Users/ignacio/Documents/recognai/argilla-llama-index/.venv/lib/python3.10/site-packages (from llama-index>=0.10.0->argilla-llama-index) (0.1.6)\n",
      "Requirement already satisfied: llama-index-question-gen-openai<0.2.0,>=0.1.2 in /Users/ignacio/Documents/recognai/argilla-llama-index/.venv/lib/python3.10/site-packages (from llama-index>=0.10.0->argilla-llama-index) (0.1.3)\n",
      "Requirement already satisfied: llama-index-readers-file<0.2.0,>=0.1.4 in /Users/ignacio/Documents/recognai/argilla-llama-index/.venv/lib/python3.10/site-packages (from llama-index>=0.10.0->argilla-llama-index) (0.1.22)\n",
      "Requirement already satisfied: llama-index-readers-llama-parse<0.2.0,>=0.1.2 in /Users/ignacio/Documents/recognai/argilla-llama-index/.venv/lib/python3.10/site-packages (from llama-index>=0.10.0->argilla-llama-index) (0.1.4)\n",
      "Requirement already satisfied: PyYAML>=6.0.1 in /Users/ignacio/Documents/recognai/argilla-llama-index/.venv/lib/python3.10/site-packages (from llama-index-core<0.11.0,>=0.10.11.post1->llama-index-callbacks-argilla) (6.0.1)\n",
      "Requirement already satisfied: SQLAlchemy>=1.4.49 in /Users/ignacio/Documents/recognai/argilla-llama-index/.venv/lib/python3.10/site-packages (from SQLAlchemy[asyncio]>=1.4.49->llama-index-core<0.11.0,>=0.10.11.post1->llama-index-callbacks-argilla) (2.0.30)\n",
      "Requirement already satisfied: aiohttp<4.0.0,>=3.8.6 in /Users/ignacio/Documents/recognai/argilla-llama-index/.venv/lib/python3.10/site-packages (from llama-index-core<0.11.0,>=0.10.11.post1->llama-index-callbacks-argilla) (3.9.5)\n",
      "Requirement already satisfied: dataclasses-json in /Users/ignacio/Documents/recognai/argilla-llama-index/.venv/lib/python3.10/site-packages (from llama-index-core<0.11.0,>=0.10.11.post1->llama-index-callbacks-argilla) (0.6.6)\n",
      "Requirement already satisfied: dirtyjson<2.0.0,>=1.0.8 in /Users/ignacio/Documents/recognai/argilla-llama-index/.venv/lib/python3.10/site-packages (from llama-index-core<0.11.0,>=0.10.11.post1->llama-index-callbacks-argilla) (1.0.8)\n",
      "Requirement already satisfied: fsspec>=2023.5.0 in /Users/ignacio/Documents/recognai/argilla-llama-index/.venv/lib/python3.10/site-packages (from llama-index-core<0.11.0,>=0.10.11.post1->llama-index-callbacks-argilla) (2024.5.0)\n",
      "Requirement already satisfied: jsonpath-ng<2.0.0,>=1.6.0 in /Users/ignacio/Documents/recognai/argilla-llama-index/.venv/lib/python3.10/site-packages (from llama-index-core<0.11.0,>=0.10.11.post1->llama-index-callbacks-argilla) (1.6.1)\n",
      "Requirement already satisfied: llamaindex-py-client<0.2.0,>=0.1.18 in /Users/ignacio/Documents/recognai/argilla-llama-index/.venv/lib/python3.10/site-packages (from llama-index-core<0.11.0,>=0.10.11.post1->llama-index-callbacks-argilla) (0.1.19)\n",
      "Requirement already satisfied: nest-asyncio<2.0.0,>=1.5.8 in /Users/ignacio/Documents/recognai/argilla-llama-index/.venv/lib/python3.10/site-packages (from llama-index-core<0.11.0,>=0.10.11.post1->llama-index-callbacks-argilla) (1.6.0)\n",
      "Requirement already satisfied: networkx>=3.0 in /Users/ignacio/Documents/recognai/argilla-llama-index/.venv/lib/python3.10/site-packages (from llama-index-core<0.11.0,>=0.10.11.post1->llama-index-callbacks-argilla) (3.3)\n",
      "Requirement already satisfied: nltk<4.0.0,>=3.8.1 in /Users/ignacio/Documents/recognai/argilla-llama-index/.venv/lib/python3.10/site-packages (from llama-index-core<0.11.0,>=0.10.11.post1->llama-index-callbacks-argilla) (3.8.1)\n",
      "Requirement already satisfied: openai>=1.1.0 in /Users/ignacio/Documents/recognai/argilla-llama-index/.venv/lib/python3.10/site-packages (from llama-index-core<0.11.0,>=0.10.11.post1->llama-index-callbacks-argilla) (1.30.1)\n",
      "Requirement already satisfied: pillow>=9.0.0 in /Users/ignacio/Documents/recognai/argilla-llama-index/.venv/lib/python3.10/site-packages (from llama-index-core<0.11.0,>=0.10.11.post1->llama-index-callbacks-argilla) (10.3.0)\n",
      "Requirement already satisfied: requests>=2.31.0 in /Users/ignacio/Documents/recognai/argilla-llama-index/.venv/lib/python3.10/site-packages (from llama-index-core<0.11.0,>=0.10.11.post1->llama-index-callbacks-argilla) (2.31.0)\n",
      "Requirement already satisfied: spacy<4.0.0,>=3.7.1 in /Users/ignacio/Documents/recognai/argilla-llama-index/.venv/lib/python3.10/site-packages (from llama-index-core<0.11.0,>=0.10.11.post1->llama-index-callbacks-argilla) (3.7.4)\n",
      "Requirement already satisfied: tenacity<9.0.0,>=8.2.0 in /Users/ignacio/Documents/recognai/argilla-llama-index/.venv/lib/python3.10/site-packages (from llama-index-core<0.11.0,>=0.10.11.post1->llama-index-callbacks-argilla) (8.3.0)\n",
      "Requirement already satisfied: tiktoken>=0.3.3 in /Users/ignacio/Documents/recognai/argilla-llama-index/.venv/lib/python3.10/site-packages (from llama-index-core<0.11.0,>=0.10.11.post1->llama-index-callbacks-argilla) (0.7.0)\n",
      "Requirement already satisfied: typing-inspect>=0.8.0 in /Users/ignacio/Documents/recognai/argilla-llama-index/.venv/lib/python3.10/site-packages (from llama-index-core<0.11.0,>=0.10.11.post1->llama-index-callbacks-argilla) (0.9.0)\n",
      "Requirement already satisfied: aiosignal>=1.1.2 in /Users/ignacio/Documents/recognai/argilla-llama-index/.venv/lib/python3.10/site-packages (from aiohttp<4.0.0,>=3.8.6->llama-index-core<0.11.0,>=0.10.11.post1->llama-index-callbacks-argilla) (1.3.1)\n",
      "Requirement already satisfied: attrs>=17.3.0 in /Users/ignacio/Documents/recognai/argilla-llama-index/.venv/lib/python3.10/site-packages (from aiohttp<4.0.0,>=3.8.6->llama-index-core<0.11.0,>=0.10.11.post1->llama-index-callbacks-argilla) (23.2.0)\n",
      "Requirement already satisfied: frozenlist>=1.1.1 in /Users/ignacio/Documents/recognai/argilla-llama-index/.venv/lib/python3.10/site-packages (from aiohttp<4.0.0,>=3.8.6->llama-index-core<0.11.0,>=0.10.11.post1->llama-index-callbacks-argilla) (1.4.1)\n",
      "Requirement already satisfied: multidict<7.0,>=4.5 in /Users/ignacio/Documents/recognai/argilla-llama-index/.venv/lib/python3.10/site-packages (from aiohttp<4.0.0,>=3.8.6->llama-index-core<0.11.0,>=0.10.11.post1->llama-index-callbacks-argilla) (6.0.5)\n",
      "Requirement already satisfied: yarl<2.0,>=1.0 in /Users/ignacio/Documents/recognai/argilla-llama-index/.venv/lib/python3.10/site-packages (from aiohttp<4.0.0,>=3.8.6->llama-index-core<0.11.0,>=0.10.11.post1->llama-index-callbacks-argilla) (1.9.4)\n",
      "Requirement already satisfied: async-timeout<5.0,>=4.0 in /Users/ignacio/Documents/recognai/argilla-llama-index/.venv/lib/python3.10/site-packages (from aiohttp<4.0.0,>=3.8.6->llama-index-core<0.11.0,>=0.10.11.post1->llama-index-callbacks-argilla) (4.0.3)\n",
      "Requirement already satisfied: anyio in /Users/ignacio/Documents/recognai/argilla-llama-index/.venv/lib/python3.10/site-packages (from httpx<=0.26,>=0.15->argilla>=1.22.0->argilla-llama-index) (4.3.0)\n",
      "Requirement already satisfied: certifi in /Users/ignacio/Documents/recognai/argilla-llama-index/.venv/lib/python3.10/site-packages (from httpx<=0.26,>=0.15->argilla>=1.22.0->argilla-llama-index) (2024.2.2)\n",
      "Requirement already satisfied: httpcore==1.* in /Users/ignacio/Documents/recognai/argilla-llama-index/.venv/lib/python3.10/site-packages (from httpx<=0.26,>=0.15->argilla>=1.22.0->argilla-llama-index) (1.0.5)\n",
      "Requirement already satisfied: idna in /Users/ignacio/Documents/recognai/argilla-llama-index/.venv/lib/python3.10/site-packages (from httpx<=0.26,>=0.15->argilla>=1.22.0->argilla-llama-index) (3.7)\n",
      "Requirement already satisfied: sniffio in /Users/ignacio/Documents/recognai/argilla-llama-index/.venv/lib/python3.10/site-packages (from httpx<=0.26,>=0.15->argilla>=1.22.0->argilla-llama-index) (1.3.1)\n",
      "Requirement already satisfied: h11<0.15,>=0.13 in /Users/ignacio/Documents/recognai/argilla-llama-index/.venv/lib/python3.10/site-packages (from httpcore==1.*->httpx<=0.26,>=0.15->argilla>=1.22.0->argilla-llama-index) (0.14.0)\n",
      "Requirement already satisfied: ply in /Users/ignacio/Documents/recognai/argilla-llama-index/.venv/lib/python3.10/site-packages (from jsonpath-ng<2.0.0,>=1.6.0->llama-index-core<0.11.0,>=0.10.11.post1->llama-index-callbacks-argilla) (3.11)\n",
      "Requirement already satisfied: beautifulsoup4<5.0.0,>=4.12.3 in /Users/ignacio/Documents/recognai/argilla-llama-index/.venv/lib/python3.10/site-packages (from llama-index-readers-file<0.2.0,>=0.1.4->llama-index>=0.10.0->argilla-llama-index) (4.12.3)\n",
      "Requirement already satisfied: pypdf<5.0.0,>=4.0.1 in /Users/ignacio/Documents/recognai/argilla-llama-index/.venv/lib/python3.10/site-packages (from llama-index-readers-file<0.2.0,>=0.1.4->llama-index>=0.10.0->argilla-llama-index) (4.2.0)\n",
      "Requirement already satisfied: striprtf<0.0.27,>=0.0.26 in /Users/ignacio/Documents/recognai/argilla-llama-index/.venv/lib/python3.10/site-packages (from llama-index-readers-file<0.2.0,>=0.1.4->llama-index>=0.10.0->argilla-llama-index) (0.0.26)\n",
      "Requirement already satisfied: llama-parse<0.5.0,>=0.4.0 in /Users/ignacio/Documents/recognai/argilla-llama-index/.venv/lib/python3.10/site-packages (from llama-index-readers-llama-parse<0.2.0,>=0.1.2->llama-index>=0.10.0->argilla-llama-index) (0.4.3)\n",
      "Requirement already satisfied: click in /Users/ignacio/Documents/recognai/argilla-llama-index/.venv/lib/python3.10/site-packages (from nltk<4.0.0,>=3.8.1->llama-index-core<0.11.0,>=0.10.11.post1->llama-index-callbacks-argilla) (8.1.7)\n",
      "Requirement already satisfied: joblib in /Users/ignacio/Documents/recognai/argilla-llama-index/.venv/lib/python3.10/site-packages (from nltk<4.0.0,>=3.8.1->llama-index-core<0.11.0,>=0.10.11.post1->llama-index-callbacks-argilla) (1.4.2)\n",
      "Requirement already satisfied: regex>=2021.8.3 in /Users/ignacio/Documents/recognai/argilla-llama-index/.venv/lib/python3.10/site-packages (from nltk<4.0.0,>=3.8.1->llama-index-core<0.11.0,>=0.10.11.post1->llama-index-callbacks-argilla) (2024.5.15)\n",
      "Requirement already satisfied: distro<2,>=1.7.0 in /Users/ignacio/Documents/recognai/argilla-llama-index/.venv/lib/python3.10/site-packages (from openai>=1.1.0->llama-index-core<0.11.0,>=0.10.11.post1->llama-index-callbacks-argilla) (1.9.0)\n",
      "Requirement already satisfied: python-dateutil>=2.8.2 in /Users/ignacio/Documents/recognai/argilla-llama-index/.venv/lib/python3.10/site-packages (from pandas>=1.0.0->argilla>=1.22.0->argilla-llama-index) (2.9.0.post0)\n",
      "Requirement already satisfied: pytz>=2020.1 in /Users/ignacio/Documents/recognai/argilla-llama-index/.venv/lib/python3.10/site-packages (from pandas>=1.0.0->argilla>=1.22.0->argilla-llama-index) (2024.1)\n",
      "Requirement already satisfied: tzdata>=2022.7 in /Users/ignacio/Documents/recognai/argilla-llama-index/.venv/lib/python3.10/site-packages (from pandas>=1.0.0->argilla>=1.22.0->argilla-llama-index) (2024.1)\n",
      "Requirement already satisfied: annotated-types>=0.4.0 in /Users/ignacio/Documents/recognai/argilla-llama-index/.venv/lib/python3.10/site-packages (from pydantic>=1.10.7->argilla>=1.22.0->argilla-llama-index) (0.6.0)\n",
      "Requirement already satisfied: pydantic-core==2.18.2 in /Users/ignacio/Documents/recognai/argilla-llama-index/.venv/lib/python3.10/site-packages (from pydantic>=1.10.7->argilla>=1.22.0->argilla-llama-index) (2.18.2)\n",
      "Requirement already satisfied: charset-normalizer<4,>=2 in /Users/ignacio/Documents/recognai/argilla-llama-index/.venv/lib/python3.10/site-packages (from requests>=2.31.0->llama-index-core<0.11.0,>=0.10.11.post1->llama-index-callbacks-argilla) (3.3.2)\n",
      "Requirement already satisfied: urllib3<3,>=1.21.1 in /Users/ignacio/Documents/recognai/argilla-llama-index/.venv/lib/python3.10/site-packages (from requests>=2.31.0->llama-index-core<0.11.0,>=0.10.11.post1->llama-index-callbacks-argilla) (2.2.1)\n",
      "Requirement already satisfied: markdown-it-py>=2.2.0 in /Users/ignacio/Documents/recognai/argilla-llama-index/.venv/lib/python3.10/site-packages (from rich!=13.1.0->argilla>=1.22.0->argilla-llama-index) (3.0.0)\n",
      "Requirement already satisfied: pygments<3.0.0,>=2.13.0 in /Users/ignacio/Documents/recognai/argilla-llama-index/.venv/lib/python3.10/site-packages (from rich!=13.1.0->argilla>=1.22.0->argilla-llama-index) (2.18.0)\n",
      "Requirement already satisfied: spacy-legacy<3.1.0,>=3.0.11 in /Users/ignacio/Documents/recognai/argilla-llama-index/.venv/lib/python3.10/site-packages (from spacy<4.0.0,>=3.7.1->llama-index-core<0.11.0,>=0.10.11.post1->llama-index-callbacks-argilla) (3.0.12)\n",
      "Requirement already satisfied: spacy-loggers<2.0.0,>=1.0.0 in /Users/ignacio/Documents/recognai/argilla-llama-index/.venv/lib/python3.10/site-packages (from spacy<4.0.0,>=3.7.1->llama-index-core<0.11.0,>=0.10.11.post1->llama-index-callbacks-argilla) (1.0.5)\n",
      "Requirement already satisfied: murmurhash<1.1.0,>=0.28.0 in /Users/ignacio/Documents/recognai/argilla-llama-index/.venv/lib/python3.10/site-packages (from spacy<4.0.0,>=3.7.1->llama-index-core<0.11.0,>=0.10.11.post1->llama-index-callbacks-argilla) (1.0.10)\n",
      "Requirement already satisfied: cymem<2.1.0,>=2.0.2 in /Users/ignacio/Documents/recognai/argilla-llama-index/.venv/lib/python3.10/site-packages (from spacy<4.0.0,>=3.7.1->llama-index-core<0.11.0,>=0.10.11.post1->llama-index-callbacks-argilla) (2.0.8)\n",
      "Requirement already satisfied: preshed<3.1.0,>=3.0.2 in /Users/ignacio/Documents/recognai/argilla-llama-index/.venv/lib/python3.10/site-packages (from spacy<4.0.0,>=3.7.1->llama-index-core<0.11.0,>=0.10.11.post1->llama-index-callbacks-argilla) (3.0.9)\n",
      "Requirement already satisfied: thinc<8.3.0,>=8.2.2 in /Users/ignacio/Documents/recognai/argilla-llama-index/.venv/lib/python3.10/site-packages (from spacy<4.0.0,>=3.7.1->llama-index-core<0.11.0,>=0.10.11.post1->llama-index-callbacks-argilla) (8.2.3)\n",
      "Requirement already satisfied: wasabi<1.2.0,>=0.9.1 in /Users/ignacio/Documents/recognai/argilla-llama-index/.venv/lib/python3.10/site-packages (from spacy<4.0.0,>=3.7.1->llama-index-core<0.11.0,>=0.10.11.post1->llama-index-callbacks-argilla) (1.1.2)\n",
      "Requirement already satisfied: srsly<3.0.0,>=2.4.3 in /Users/ignacio/Documents/recognai/argilla-llama-index/.venv/lib/python3.10/site-packages (from spacy<4.0.0,>=3.7.1->llama-index-core<0.11.0,>=0.10.11.post1->llama-index-callbacks-argilla) (2.4.8)\n",
      "Requirement already satisfied: catalogue<2.1.0,>=2.0.6 in /Users/ignacio/Documents/recognai/argilla-llama-index/.venv/lib/python3.10/site-packages (from spacy<4.0.0,>=3.7.1->llama-index-core<0.11.0,>=0.10.11.post1->llama-index-callbacks-argilla) (2.0.10)\n",
      "Requirement already satisfied: weasel<0.4.0,>=0.1.0 in /Users/ignacio/Documents/recognai/argilla-llama-index/.venv/lib/python3.10/site-packages (from spacy<4.0.0,>=3.7.1->llama-index-core<0.11.0,>=0.10.11.post1->llama-index-callbacks-argilla) (0.3.4)\n",
      "Requirement already satisfied: smart-open<7.0.0,>=5.2.1 in /Users/ignacio/Documents/recognai/argilla-llama-index/.venv/lib/python3.10/site-packages (from spacy<4.0.0,>=3.7.1->llama-index-core<0.11.0,>=0.10.11.post1->llama-index-callbacks-argilla) (6.4.0)\n",
      "Requirement already satisfied: jinja2 in /Users/ignacio/Documents/recognai/argilla-llama-index/.venv/lib/python3.10/site-packages (from spacy<4.0.0,>=3.7.1->llama-index-core<0.11.0,>=0.10.11.post1->llama-index-callbacks-argilla) (3.1.4)\n",
      "Requirement already satisfied: setuptools in /Users/ignacio/Documents/recognai/argilla-llama-index/.venv/lib/python3.10/site-packages (from spacy<4.0.0,>=3.7.1->llama-index-core<0.11.0,>=0.10.11.post1->llama-index-callbacks-argilla) (69.2.0)\n",
      "Requirement already satisfied: langcodes<4.0.0,>=3.2.0 in /Users/ignacio/Documents/recognai/argilla-llama-index/.venv/lib/python3.10/site-packages (from spacy<4.0.0,>=3.7.1->llama-index-core<0.11.0,>=0.10.11.post1->llama-index-callbacks-argilla) (3.4.0)\n",
      "Requirement already satisfied: greenlet!=0.4.17 in /Users/ignacio/Documents/recognai/argilla-llama-index/.venv/lib/python3.10/site-packages (from SQLAlchemy[asyncio]>=1.4.49->llama-index-core<0.11.0,>=0.10.11.post1->llama-index-callbacks-argilla) (3.0.3)\n",
      "Requirement already satisfied: mypy-extensions>=0.3.0 in /Users/ignacio/Documents/recognai/argilla-llama-index/.venv/lib/python3.10/site-packages (from typing-inspect>=0.8.0->llama-index-core<0.11.0,>=0.10.11.post1->llama-index-callbacks-argilla) (1.0.0)\n",
      "Requirement already satisfied: marshmallow<4.0.0,>=3.18.0 in /Users/ignacio/Documents/recognai/argilla-llama-index/.venv/lib/python3.10/site-packages (from dataclasses-json->llama-index-core<0.11.0,>=0.10.11.post1->llama-index-callbacks-argilla) (3.21.2)\n",
      "Requirement already satisfied: exceptiongroup>=1.0.2 in /Users/ignacio/Documents/recognai/argilla-llama-index/.venv/lib/python3.10/site-packages (from anyio->httpx<=0.26,>=0.15->argilla>=1.22.0->argilla-llama-index) (1.2.1)\n",
      "Requirement already satisfied: soupsieve>1.2 in /Users/ignacio/Documents/recognai/argilla-llama-index/.venv/lib/python3.10/site-packages (from beautifulsoup4<5.0.0,>=4.12.3->llama-index-readers-file<0.2.0,>=0.1.4->llama-index>=0.10.0->argilla-llama-index) (2.5)\n",
      "Requirement already satisfied: language-data>=1.2 in /Users/ignacio/Documents/recognai/argilla-llama-index/.venv/lib/python3.10/site-packages (from langcodes<4.0.0,>=3.2.0->spacy<4.0.0,>=3.7.1->llama-index-core<0.11.0,>=0.10.11.post1->llama-index-callbacks-argilla) (1.2.0)\n",
      "Requirement already satisfied: mdurl~=0.1 in /Users/ignacio/Documents/recognai/argilla-llama-index/.venv/lib/python3.10/site-packages (from markdown-it-py>=2.2.0->rich!=13.1.0->argilla>=1.22.0->argilla-llama-index) (0.1.2)\n",
      "Requirement already satisfied: six>=1.5 in /Users/ignacio/Documents/recognai/argilla-llama-index/.venv/lib/python3.10/site-packages (from python-dateutil>=2.8.2->pandas>=1.0.0->argilla>=1.22.0->argilla-llama-index) (1.16.0)\n",
      "Requirement already satisfied: blis<0.8.0,>=0.7.8 in /Users/ignacio/Documents/recognai/argilla-llama-index/.venv/lib/python3.10/site-packages (from thinc<8.3.0,>=8.2.2->spacy<4.0.0,>=3.7.1->llama-index-core<0.11.0,>=0.10.11.post1->llama-index-callbacks-argilla) (0.7.11)\n",
      "Requirement already satisfied: confection<1.0.0,>=0.0.1 in /Users/ignacio/Documents/recognai/argilla-llama-index/.venv/lib/python3.10/site-packages (from thinc<8.3.0,>=8.2.2->spacy<4.0.0,>=3.7.1->llama-index-core<0.11.0,>=0.10.11.post1->llama-index-callbacks-argilla) (0.1.4)\n",
      "Requirement already satisfied: cloudpathlib<0.17.0,>=0.7.0 in /Users/ignacio/Documents/recognai/argilla-llama-index/.venv/lib/python3.10/site-packages (from weasel<0.4.0,>=0.1.0->spacy<4.0.0,>=3.7.1->llama-index-core<0.11.0,>=0.10.11.post1->llama-index-callbacks-argilla) (0.16.0)\n",
      "Requirement already satisfied: MarkupSafe>=2.0 in /Users/ignacio/Documents/recognai/argilla-llama-index/.venv/lib/python3.10/site-packages (from jinja2->spacy<4.0.0,>=3.7.1->llama-index-core<0.11.0,>=0.10.11.post1->llama-index-callbacks-argilla) (2.1.5)\n",
      "Requirement already satisfied: marisa-trie>=0.7.7 in /Users/ignacio/Documents/recognai/argilla-llama-index/.venv/lib/python3.10/site-packages (from language-data>=1.2->langcodes<4.0.0,>=3.2.0->spacy<4.0.0,>=3.7.1->llama-index-core<0.11.0,>=0.10.11.post1->llama-index-callbacks-argilla) (1.1.1)\n",
      "Downloading llama_index_callbacks_argilla-0.1.4-py3-none-any.whl (3.7 kB)\n",
      "Installing collected packages: llama-index-callbacks-argilla\n",
      "Successfully installed llama-index-callbacks-argilla-0.1.4\n",
      "Note: you may need to restart the kernel to use updated packages.\n"
     ]
    }
   ],
   "source": [
    "%pip install argilla-llama-index llama-index-callbacks-argilla"
   ]
  },
  {
   "cell_type": "markdown",
   "metadata": {},
   "source": [
    "By installing `argilla-llama-index`, you're also installing `argilla` and `llama-index`. In addition to those two, we will also need `llama-index-readers-github`."
   ]
  },
  {
   "cell_type": "code",
   "execution_count": 1,
   "metadata": {},
   "outputs": [
    {
     "name": "stdout",
     "output_type": "stream",
     "text": [
      "Collecting llama-index-readers-github\n",
      "  Using cached llama_index_readers_github-0.1.9-py3-none-any.whl.metadata (2.9 kB)\n",
      "Requirement already satisfied: httpx>=0.26.0 in /Users/ignacio/Documents/recognai/argilla-llama-index/.venv/lib/python3.10/site-packages (from llama-index-readers-github) (0.26.0)\n",
      "Requirement already satisfied: llama-index-core<0.11.0,>=0.10.1 in /Users/ignacio/Documents/recognai/argilla-llama-index/.venv/lib/python3.10/site-packages (from llama-index-readers-github) (0.10.37.post1)\n",
      "Requirement already satisfied: llama-index-readers-file<0.2.0,>=0.1.1 in /Users/ignacio/Documents/recognai/argilla-llama-index/.venv/lib/python3.10/site-packages (from llama-index-readers-github) (0.1.22)\n",
      "Requirement already satisfied: anyio in /Users/ignacio/Documents/recognai/argilla-llama-index/.venv/lib/python3.10/site-packages (from httpx>=0.26.0->llama-index-readers-github) (4.3.0)\n",
      "Requirement already satisfied: certifi in /Users/ignacio/Documents/recognai/argilla-llama-index/.venv/lib/python3.10/site-packages (from httpx>=0.26.0->llama-index-readers-github) (2024.2.2)\n",
      "Requirement already satisfied: httpcore==1.* in /Users/ignacio/Documents/recognai/argilla-llama-index/.venv/lib/python3.10/site-packages (from httpx>=0.26.0->llama-index-readers-github) (1.0.5)\n",
      "Requirement already satisfied: idna in /Users/ignacio/Documents/recognai/argilla-llama-index/.venv/lib/python3.10/site-packages (from httpx>=0.26.0->llama-index-readers-github) (3.7)\n",
      "Requirement already satisfied: sniffio in /Users/ignacio/Documents/recognai/argilla-llama-index/.venv/lib/python3.10/site-packages (from httpx>=0.26.0->llama-index-readers-github) (1.3.1)\n",
      "Requirement already satisfied: h11<0.15,>=0.13 in /Users/ignacio/Documents/recognai/argilla-llama-index/.venv/lib/python3.10/site-packages (from httpcore==1.*->httpx>=0.26.0->llama-index-readers-github) (0.14.0)\n",
      "Requirement already satisfied: PyYAML>=6.0.1 in /Users/ignacio/Documents/recognai/argilla-llama-index/.venv/lib/python3.10/site-packages (from llama-index-core<0.11.0,>=0.10.1->llama-index-readers-github) (6.0.1)\n",
      "Requirement already satisfied: SQLAlchemy>=1.4.49 in /Users/ignacio/Documents/recognai/argilla-llama-index/.venv/lib/python3.10/site-packages (from SQLAlchemy[asyncio]>=1.4.49->llama-index-core<0.11.0,>=0.10.1->llama-index-readers-github) (2.0.30)\n",
      "Requirement already satisfied: aiohttp<4.0.0,>=3.8.6 in /Users/ignacio/Documents/recognai/argilla-llama-index/.venv/lib/python3.10/site-packages (from llama-index-core<0.11.0,>=0.10.1->llama-index-readers-github) (3.9.5)\n",
      "Requirement already satisfied: dataclasses-json in /Users/ignacio/Documents/recognai/argilla-llama-index/.venv/lib/python3.10/site-packages (from llama-index-core<0.11.0,>=0.10.1->llama-index-readers-github) (0.6.6)\n",
      "Requirement already satisfied: deprecated>=1.2.9.3 in /Users/ignacio/Documents/recognai/argilla-llama-index/.venv/lib/python3.10/site-packages (from llama-index-core<0.11.0,>=0.10.1->llama-index-readers-github) (1.2.14)\n",
      "Requirement already satisfied: dirtyjson<2.0.0,>=1.0.8 in /Users/ignacio/Documents/recognai/argilla-llama-index/.venv/lib/python3.10/site-packages (from llama-index-core<0.11.0,>=0.10.1->llama-index-readers-github) (1.0.8)\n",
      "Requirement already satisfied: fsspec>=2023.5.0 in /Users/ignacio/Documents/recognai/argilla-llama-index/.venv/lib/python3.10/site-packages (from llama-index-core<0.11.0,>=0.10.1->llama-index-readers-github) (2024.5.0)\n",
      "Requirement already satisfied: jsonpath-ng<2.0.0,>=1.6.0 in /Users/ignacio/Documents/recognai/argilla-llama-index/.venv/lib/python3.10/site-packages (from llama-index-core<0.11.0,>=0.10.1->llama-index-readers-github) (1.6.1)\n",
      "Requirement already satisfied: llamaindex-py-client<0.2.0,>=0.1.18 in /Users/ignacio/Documents/recognai/argilla-llama-index/.venv/lib/python3.10/site-packages (from llama-index-core<0.11.0,>=0.10.1->llama-index-readers-github) (0.1.19)\n",
      "Requirement already satisfied: nest-asyncio<2.0.0,>=1.5.8 in /Users/ignacio/Documents/recognai/argilla-llama-index/.venv/lib/python3.10/site-packages (from llama-index-core<0.11.0,>=0.10.1->llama-index-readers-github) (1.6.0)\n",
      "Requirement already satisfied: networkx>=3.0 in /Users/ignacio/Documents/recognai/argilla-llama-index/.venv/lib/python3.10/site-packages (from llama-index-core<0.11.0,>=0.10.1->llama-index-readers-github) (3.3)\n",
      "Requirement already satisfied: nltk<4.0.0,>=3.8.1 in /Users/ignacio/Documents/recognai/argilla-llama-index/.venv/lib/python3.10/site-packages (from llama-index-core<0.11.0,>=0.10.1->llama-index-readers-github) (3.8.1)\n",
      "Requirement already satisfied: numpy in /Users/ignacio/Documents/recognai/argilla-llama-index/.venv/lib/python3.10/site-packages (from llama-index-core<0.11.0,>=0.10.1->llama-index-readers-github) (1.23.5)\n",
      "Requirement already satisfied: openai>=1.1.0 in /Users/ignacio/Documents/recognai/argilla-llama-index/.venv/lib/python3.10/site-packages (from llama-index-core<0.11.0,>=0.10.1->llama-index-readers-github) (1.30.1)\n",
      "Requirement already satisfied: pandas in /Users/ignacio/Documents/recognai/argilla-llama-index/.venv/lib/python3.10/site-packages (from llama-index-core<0.11.0,>=0.10.1->llama-index-readers-github) (2.2.2)\n",
      "Requirement already satisfied: pillow>=9.0.0 in /Users/ignacio/Documents/recognai/argilla-llama-index/.venv/lib/python3.10/site-packages (from llama-index-core<0.11.0,>=0.10.1->llama-index-readers-github) (10.3.0)\n",
      "Requirement already satisfied: requests>=2.31.0 in /Users/ignacio/Documents/recognai/argilla-llama-index/.venv/lib/python3.10/site-packages (from llama-index-core<0.11.0,>=0.10.1->llama-index-readers-github) (2.31.0)\n",
      "Requirement already satisfied: spacy<4.0.0,>=3.7.1 in /Users/ignacio/Documents/recognai/argilla-llama-index/.venv/lib/python3.10/site-packages (from llama-index-core<0.11.0,>=0.10.1->llama-index-readers-github) (3.7.4)\n",
      "Requirement already satisfied: tenacity<9.0.0,>=8.2.0 in /Users/ignacio/Documents/recognai/argilla-llama-index/.venv/lib/python3.10/site-packages (from llama-index-core<0.11.0,>=0.10.1->llama-index-readers-github) (8.3.0)\n",
      "Requirement already satisfied: tiktoken>=0.3.3 in /Users/ignacio/Documents/recognai/argilla-llama-index/.venv/lib/python3.10/site-packages (from llama-index-core<0.11.0,>=0.10.1->llama-index-readers-github) (0.7.0)\n",
      "Requirement already satisfied: tqdm<5.0.0,>=4.66.1 in /Users/ignacio/Documents/recognai/argilla-llama-index/.venv/lib/python3.10/site-packages (from llama-index-core<0.11.0,>=0.10.1->llama-index-readers-github) (4.66.4)\n",
      "Requirement already satisfied: typing-extensions>=4.5.0 in /Users/ignacio/Documents/recognai/argilla-llama-index/.venv/lib/python3.10/site-packages (from llama-index-core<0.11.0,>=0.10.1->llama-index-readers-github) (4.11.0)\n",
      "Requirement already satisfied: typing-inspect>=0.8.0 in /Users/ignacio/Documents/recognai/argilla-llama-index/.venv/lib/python3.10/site-packages (from llama-index-core<0.11.0,>=0.10.1->llama-index-readers-github) (0.9.0)\n",
      "Requirement already satisfied: wrapt in /Users/ignacio/Documents/recognai/argilla-llama-index/.venv/lib/python3.10/site-packages (from llama-index-core<0.11.0,>=0.10.1->llama-index-readers-github) (1.14.1)\n",
      "Requirement already satisfied: beautifulsoup4<5.0.0,>=4.12.3 in /Users/ignacio/Documents/recognai/argilla-llama-index/.venv/lib/python3.10/site-packages (from llama-index-readers-file<0.2.0,>=0.1.1->llama-index-readers-github) (4.12.3)\n",
      "Requirement already satisfied: pypdf<5.0.0,>=4.0.1 in /Users/ignacio/Documents/recognai/argilla-llama-index/.venv/lib/python3.10/site-packages (from llama-index-readers-file<0.2.0,>=0.1.1->llama-index-readers-github) (4.2.0)\n",
      "Requirement already satisfied: striprtf<0.0.27,>=0.0.26 in /Users/ignacio/Documents/recognai/argilla-llama-index/.venv/lib/python3.10/site-packages (from llama-index-readers-file<0.2.0,>=0.1.1->llama-index-readers-github) (0.0.26)\n",
      "Requirement already satisfied: aiosignal>=1.1.2 in /Users/ignacio/Documents/recognai/argilla-llama-index/.venv/lib/python3.10/site-packages (from aiohttp<4.0.0,>=3.8.6->llama-index-core<0.11.0,>=0.10.1->llama-index-readers-github) (1.3.1)\n",
      "Requirement already satisfied: attrs>=17.3.0 in /Users/ignacio/Documents/recognai/argilla-llama-index/.venv/lib/python3.10/site-packages (from aiohttp<4.0.0,>=3.8.6->llama-index-core<0.11.0,>=0.10.1->llama-index-readers-github) (23.2.0)\n",
      "Requirement already satisfied: frozenlist>=1.1.1 in /Users/ignacio/Documents/recognai/argilla-llama-index/.venv/lib/python3.10/site-packages (from aiohttp<4.0.0,>=3.8.6->llama-index-core<0.11.0,>=0.10.1->llama-index-readers-github) (1.4.1)\n",
      "Requirement already satisfied: multidict<7.0,>=4.5 in /Users/ignacio/Documents/recognai/argilla-llama-index/.venv/lib/python3.10/site-packages (from aiohttp<4.0.0,>=3.8.6->llama-index-core<0.11.0,>=0.10.1->llama-index-readers-github) (6.0.5)\n",
      "Requirement already satisfied: yarl<2.0,>=1.0 in /Users/ignacio/Documents/recognai/argilla-llama-index/.venv/lib/python3.10/site-packages (from aiohttp<4.0.0,>=3.8.6->llama-index-core<0.11.0,>=0.10.1->llama-index-readers-github) (1.9.4)\n",
      "Requirement already satisfied: async-timeout<5.0,>=4.0 in /Users/ignacio/Documents/recognai/argilla-llama-index/.venv/lib/python3.10/site-packages (from aiohttp<4.0.0,>=3.8.6->llama-index-core<0.11.0,>=0.10.1->llama-index-readers-github) (4.0.3)\n",
      "Requirement already satisfied: soupsieve>1.2 in /Users/ignacio/Documents/recognai/argilla-llama-index/.venv/lib/python3.10/site-packages (from beautifulsoup4<5.0.0,>=4.12.3->llama-index-readers-file<0.2.0,>=0.1.1->llama-index-readers-github) (2.5)\n",
      "Requirement already satisfied: ply in /Users/ignacio/Documents/recognai/argilla-llama-index/.venv/lib/python3.10/site-packages (from jsonpath-ng<2.0.0,>=1.6.0->llama-index-core<0.11.0,>=0.10.1->llama-index-readers-github) (3.11)\n",
      "Requirement already satisfied: pydantic>=1.10 in /Users/ignacio/Documents/recognai/argilla-llama-index/.venv/lib/python3.10/site-packages (from llamaindex-py-client<0.2.0,>=0.1.18->llama-index-core<0.11.0,>=0.10.1->llama-index-readers-github) (2.7.1)\n",
      "Requirement already satisfied: click in /Users/ignacio/Documents/recognai/argilla-llama-index/.venv/lib/python3.10/site-packages (from nltk<4.0.0,>=3.8.1->llama-index-core<0.11.0,>=0.10.1->llama-index-readers-github) (8.1.7)\n",
      "Requirement already satisfied: joblib in /Users/ignacio/Documents/recognai/argilla-llama-index/.venv/lib/python3.10/site-packages (from nltk<4.0.0,>=3.8.1->llama-index-core<0.11.0,>=0.10.1->llama-index-readers-github) (1.4.2)\n",
      "Requirement already satisfied: regex>=2021.8.3 in /Users/ignacio/Documents/recognai/argilla-llama-index/.venv/lib/python3.10/site-packages (from nltk<4.0.0,>=3.8.1->llama-index-core<0.11.0,>=0.10.1->llama-index-readers-github) (2024.5.15)\n",
      "Requirement already satisfied: distro<2,>=1.7.0 in /Users/ignacio/Documents/recognai/argilla-llama-index/.venv/lib/python3.10/site-packages (from openai>=1.1.0->llama-index-core<0.11.0,>=0.10.1->llama-index-readers-github) (1.9.0)\n",
      "Requirement already satisfied: exceptiongroup>=1.0.2 in /Users/ignacio/Documents/recognai/argilla-llama-index/.venv/lib/python3.10/site-packages (from anyio->httpx>=0.26.0->llama-index-readers-github) (1.2.1)\n",
      "Requirement already satisfied: charset-normalizer<4,>=2 in /Users/ignacio/Documents/recognai/argilla-llama-index/.venv/lib/python3.10/site-packages (from requests>=2.31.0->llama-index-core<0.11.0,>=0.10.1->llama-index-readers-github) (3.3.2)\n",
      "Requirement already satisfied: urllib3<3,>=1.21.1 in /Users/ignacio/Documents/recognai/argilla-llama-index/.venv/lib/python3.10/site-packages (from requests>=2.31.0->llama-index-core<0.11.0,>=0.10.1->llama-index-readers-github) (2.2.1)\n",
      "Requirement already satisfied: spacy-legacy<3.1.0,>=3.0.11 in /Users/ignacio/Documents/recognai/argilla-llama-index/.venv/lib/python3.10/site-packages (from spacy<4.0.0,>=3.7.1->llama-index-core<0.11.0,>=0.10.1->llama-index-readers-github) (3.0.12)\n",
      "Requirement already satisfied: spacy-loggers<2.0.0,>=1.0.0 in /Users/ignacio/Documents/recognai/argilla-llama-index/.venv/lib/python3.10/site-packages (from spacy<4.0.0,>=3.7.1->llama-index-core<0.11.0,>=0.10.1->llama-index-readers-github) (1.0.5)\n",
      "Requirement already satisfied: murmurhash<1.1.0,>=0.28.0 in /Users/ignacio/Documents/recognai/argilla-llama-index/.venv/lib/python3.10/site-packages (from spacy<4.0.0,>=3.7.1->llama-index-core<0.11.0,>=0.10.1->llama-index-readers-github) (1.0.10)\n",
      "Requirement already satisfied: cymem<2.1.0,>=2.0.2 in /Users/ignacio/Documents/recognai/argilla-llama-index/.venv/lib/python3.10/site-packages (from spacy<4.0.0,>=3.7.1->llama-index-core<0.11.0,>=0.10.1->llama-index-readers-github) (2.0.8)\n",
      "Requirement already satisfied: preshed<3.1.0,>=3.0.2 in /Users/ignacio/Documents/recognai/argilla-llama-index/.venv/lib/python3.10/site-packages (from spacy<4.0.0,>=3.7.1->llama-index-core<0.11.0,>=0.10.1->llama-index-readers-github) (3.0.9)\n",
      "Requirement already satisfied: thinc<8.3.0,>=8.2.2 in /Users/ignacio/Documents/recognai/argilla-llama-index/.venv/lib/python3.10/site-packages (from spacy<4.0.0,>=3.7.1->llama-index-core<0.11.0,>=0.10.1->llama-index-readers-github) (8.2.3)\n",
      "Requirement already satisfied: wasabi<1.2.0,>=0.9.1 in /Users/ignacio/Documents/recognai/argilla-llama-index/.venv/lib/python3.10/site-packages (from spacy<4.0.0,>=3.7.1->llama-index-core<0.11.0,>=0.10.1->llama-index-readers-github) (1.1.2)\n",
      "Requirement already satisfied: srsly<3.0.0,>=2.4.3 in /Users/ignacio/Documents/recognai/argilla-llama-index/.venv/lib/python3.10/site-packages (from spacy<4.0.0,>=3.7.1->llama-index-core<0.11.0,>=0.10.1->llama-index-readers-github) (2.4.8)\n",
      "Requirement already satisfied: catalogue<2.1.0,>=2.0.6 in /Users/ignacio/Documents/recognai/argilla-llama-index/.venv/lib/python3.10/site-packages (from spacy<4.0.0,>=3.7.1->llama-index-core<0.11.0,>=0.10.1->llama-index-readers-github) (2.0.10)\n",
      "Requirement already satisfied: weasel<0.4.0,>=0.1.0 in /Users/ignacio/Documents/recognai/argilla-llama-index/.venv/lib/python3.10/site-packages (from spacy<4.0.0,>=3.7.1->llama-index-core<0.11.0,>=0.10.1->llama-index-readers-github) (0.3.4)\n",
      "Requirement already satisfied: typer<0.10.0,>=0.3.0 in /Users/ignacio/Documents/recognai/argilla-llama-index/.venv/lib/python3.10/site-packages (from spacy<4.0.0,>=3.7.1->llama-index-core<0.11.0,>=0.10.1->llama-index-readers-github) (0.9.4)\n",
      "Requirement already satisfied: smart-open<7.0.0,>=5.2.1 in /Users/ignacio/Documents/recognai/argilla-llama-index/.venv/lib/python3.10/site-packages (from spacy<4.0.0,>=3.7.1->llama-index-core<0.11.0,>=0.10.1->llama-index-readers-github) (6.4.0)\n",
      "Requirement already satisfied: jinja2 in /Users/ignacio/Documents/recognai/argilla-llama-index/.venv/lib/python3.10/site-packages (from spacy<4.0.0,>=3.7.1->llama-index-core<0.11.0,>=0.10.1->llama-index-readers-github) (3.1.4)\n",
      "Requirement already satisfied: setuptools in /Users/ignacio/Documents/recognai/argilla-llama-index/.venv/lib/python3.10/site-packages (from spacy<4.0.0,>=3.7.1->llama-index-core<0.11.0,>=0.10.1->llama-index-readers-github) (69.2.0)\n",
      "Requirement already satisfied: packaging>=20.0 in /Users/ignacio/Documents/recognai/argilla-llama-index/.venv/lib/python3.10/site-packages (from spacy<4.0.0,>=3.7.1->llama-index-core<0.11.0,>=0.10.1->llama-index-readers-github) (24.0)\n",
      "Requirement already satisfied: langcodes<4.0.0,>=3.2.0 in /Users/ignacio/Documents/recognai/argilla-llama-index/.venv/lib/python3.10/site-packages (from spacy<4.0.0,>=3.7.1->llama-index-core<0.11.0,>=0.10.1->llama-index-readers-github) (3.4.0)\n",
      "Requirement already satisfied: greenlet!=0.4.17 in /Users/ignacio/Documents/recognai/argilla-llama-index/.venv/lib/python3.10/site-packages (from SQLAlchemy[asyncio]>=1.4.49->llama-index-core<0.11.0,>=0.10.1->llama-index-readers-github) (3.0.3)\n",
      "Requirement already satisfied: mypy-extensions>=0.3.0 in /Users/ignacio/Documents/recognai/argilla-llama-index/.venv/lib/python3.10/site-packages (from typing-inspect>=0.8.0->llama-index-core<0.11.0,>=0.10.1->llama-index-readers-github) (1.0.0)\n",
      "Requirement already satisfied: marshmallow<4.0.0,>=3.18.0 in /Users/ignacio/Documents/recognai/argilla-llama-index/.venv/lib/python3.10/site-packages (from dataclasses-json->llama-index-core<0.11.0,>=0.10.1->llama-index-readers-github) (3.21.2)\n",
      "Requirement already satisfied: python-dateutil>=2.8.2 in /Users/ignacio/Documents/recognai/argilla-llama-index/.venv/lib/python3.10/site-packages (from pandas->llama-index-core<0.11.0,>=0.10.1->llama-index-readers-github) (2.9.0.post0)\n",
      "Requirement already satisfied: pytz>=2020.1 in /Users/ignacio/Documents/recognai/argilla-llama-index/.venv/lib/python3.10/site-packages (from pandas->llama-index-core<0.11.0,>=0.10.1->llama-index-readers-github) (2024.1)\n",
      "Requirement already satisfied: tzdata>=2022.7 in /Users/ignacio/Documents/recognai/argilla-llama-index/.venv/lib/python3.10/site-packages (from pandas->llama-index-core<0.11.0,>=0.10.1->llama-index-readers-github) (2024.1)\n",
      "Requirement already satisfied: language-data>=1.2 in /Users/ignacio/Documents/recognai/argilla-llama-index/.venv/lib/python3.10/site-packages (from langcodes<4.0.0,>=3.2.0->spacy<4.0.0,>=3.7.1->llama-index-core<0.11.0,>=0.10.1->llama-index-readers-github) (1.2.0)\n",
      "Requirement already satisfied: annotated-types>=0.4.0 in /Users/ignacio/Documents/recognai/argilla-llama-index/.venv/lib/python3.10/site-packages (from pydantic>=1.10->llamaindex-py-client<0.2.0,>=0.1.18->llama-index-core<0.11.0,>=0.10.1->llama-index-readers-github) (0.6.0)\n",
      "Requirement already satisfied: pydantic-core==2.18.2 in /Users/ignacio/Documents/recognai/argilla-llama-index/.venv/lib/python3.10/site-packages (from pydantic>=1.10->llamaindex-py-client<0.2.0,>=0.1.18->llama-index-core<0.11.0,>=0.10.1->llama-index-readers-github) (2.18.2)\n",
      "Requirement already satisfied: six>=1.5 in /Users/ignacio/Documents/recognai/argilla-llama-index/.venv/lib/python3.10/site-packages (from python-dateutil>=2.8.2->pandas->llama-index-core<0.11.0,>=0.10.1->llama-index-readers-github) (1.16.0)\n",
      "Requirement already satisfied: blis<0.8.0,>=0.7.8 in /Users/ignacio/Documents/recognai/argilla-llama-index/.venv/lib/python3.10/site-packages (from thinc<8.3.0,>=8.2.2->spacy<4.0.0,>=3.7.1->llama-index-core<0.11.0,>=0.10.1->llama-index-readers-github) (0.7.11)\n",
      "Requirement already satisfied: confection<1.0.0,>=0.0.1 in /Users/ignacio/Documents/recognai/argilla-llama-index/.venv/lib/python3.10/site-packages (from thinc<8.3.0,>=8.2.2->spacy<4.0.0,>=3.7.1->llama-index-core<0.11.0,>=0.10.1->llama-index-readers-github) (0.1.4)\n",
      "Requirement already satisfied: cloudpathlib<0.17.0,>=0.7.0 in /Users/ignacio/Documents/recognai/argilla-llama-index/.venv/lib/python3.10/site-packages (from weasel<0.4.0,>=0.1.0->spacy<4.0.0,>=3.7.1->llama-index-core<0.11.0,>=0.10.1->llama-index-readers-github) (0.16.0)\n",
      "Requirement already satisfied: MarkupSafe>=2.0 in /Users/ignacio/Documents/recognai/argilla-llama-index/.venv/lib/python3.10/site-packages (from jinja2->spacy<4.0.0,>=3.7.1->llama-index-core<0.11.0,>=0.10.1->llama-index-readers-github) (2.1.5)\n",
      "Requirement already satisfied: marisa-trie>=0.7.7 in /Users/ignacio/Documents/recognai/argilla-llama-index/.venv/lib/python3.10/site-packages (from language-data>=1.2->langcodes<4.0.0,>=3.2.0->spacy<4.0.0,>=3.7.1->llama-index-core<0.11.0,>=0.10.1->llama-index-readers-github) (1.1.1)\n",
      "Using cached llama_index_readers_github-0.1.9-py3-none-any.whl (21 kB)\n",
      "Installing collected packages: llama-index-readers-github\n",
      "Successfully installed llama-index-readers-github-0.1.9\n",
      "Note: you may need to restart the kernel to use updated packages.\n"
     ]
    }
   ],
   "source": [
    "%pip install llama-index-readers-github"
   ]
  },
  {
   "cell_type": "markdown",
   "metadata": {},
   "source": [
    "Now, let's set some important environment variables and do the imports necessary for running the notebook. For the environment variables, we'll need the OpenAI API KEY and our Github token. OpenAI's API key is neccesary to run the queries using GPT models, and the Github token is used to ensure that you have access to the repository you're trying to use. Even if it might not be necessary if the repository is public, it is recommended. At the end of the day, you probably also navigate Github's website logged. "
   ]
  },
  {
   "cell_type": "code",
   "execution_count": null,
   "metadata": {},
   "outputs": [],
   "source": [
    "%env OPENAI_API_KEY=sk-...\n",
    "%env GITHUB_TOKEN=github_pat_..."
   ]
  },
  {
   "cell_type": "code",
   "execution_count": 13,
   "metadata": {},
   "outputs": [],
   "source": [
    "import os\n",
    "\n",
    "from llama_index.core import VectorStoreIndex, set_global_handler\n",
    "from llama_index.readers.github import GithubRepositoryReader, GithubClient\n",
    "from tqdm import tqdm"
   ]
  },
  {
   "cell_type": "markdown",
   "metadata": {},
   "source": [
    "## Initializing Argilla and setting the global handler\n",
    "\n",
    "First things first, you need to have an Argilla instance running. You can check our [installation guide](https://docs.argilla.io/en/latest/getting_started/quickstart_installation.html#Installation) to choose which way suits you better. We recommend using Hugging Face Spaces to have a remote instance running or running a local instance using Docker.\n",
    "\n",
    "Now, we will set up an Argilla global handler for Llama Index. By doing so, we ensure that the predictions that we obtain using Llama Index is automatically uploaded to the Argilla client we initialized before Within the handler, we need to provide the dataset name that we will use. If the dataset does not exist, it will be created with the given name. You can also set the API KEY, API URL, and the Workspace name. If you want to learn more about the variables that controls Argilla initialization, please go to our [workspace management guide](https://docs.argilla.io/en/latest/getting_started/installation/configurations/workspace_management.html)."
   ]
  },
  {
   "cell_type": "code",
   "execution_count": 2,
   "metadata": {},
   "outputs": [
    {
     "name": "stderr",
     "output_type": "stream",
     "text": [
      "/Users/ignacio/Documents/recognai/argilla-llama-index/.venv/lib/python3.10/site-packages/argilla/client/client.py:195: UserWarning: You're connecting to Argilla Server 1.21.0 using a different client version (1.28.0).\n",
      "This may lead to potential compatibility issues during your experience.\n",
      "To ensure a seamless and optimized connection, we highly recommend aligning your client version with the server version.\n",
      "  warnings.warn(\n"
     ]
    }
   ],
   "source": [
    "set_global_handler(\n",
    "    \"argilla\", \n",
    "    api_url=\"http://localhost:6900\", # change it to the HF Space direct link if you are running Argilla in HF Spaces\n",
    "    api_key=\"owner.apikey\",\n",
    "    workspace_name=\"admin\",\n",
    "    dataset_name=\"repo_reader\"\n",
    ")"
   ]
  },
  {
   "cell_type": "markdown",
   "metadata": {},
   "source": [
    "## Initialize the Github client\n",
    "\n",
    "Our Github client shall include the Github token we'll use to access the repo and the information of the repository itself, including the owner, the repository name and the desired branch. In our case, we'll target the `main` branch of the `argilla` repository."
   ]
  },
  {
   "cell_type": "code",
   "execution_count": 3,
   "metadata": {},
   "outputs": [],
   "source": [
    "github_token = os.environ.get(\"GITHUB_TOKEN\")\n",
    "owner = \"argilla-io\"\n",
    "repo = \"argilla\"\n",
    "branch = \"main\"\n",
    "\n",
    "github_client = GithubClient(github_token=github_token, verbose=True)"
   ]
  },
  {
   "cell_type": "markdown",
   "metadata": {},
   "source": [
    "## Select which documents are included in the RAG\n",
    "\n"
   ]
  },
  {
   "cell_type": "markdown",
   "metadata": {},
   "source": [
    "Before creating our `GithubRepositoryReader` instance, we need to correct the nesting. The Jupyter kernel itself runs on an event loop, so to prevent this loop for finishing before reading the whole repository, please run the cell below."
   ]
  },
  {
   "cell_type": "code",
   "execution_count": 4,
   "metadata": {},
   "outputs": [],
   "source": [
    "import nest_asyncio\n",
    "\n",
    "nest_asyncio.apply()"
   ]
  },
  {
   "cell_type": "markdown",
   "metadata": {},
   "source": [
    "Now, let's create a `GithubRepositoryReader` instance with the information about the repo we want to extract the information from. As the target of this tutorial is to focus on the documentation, we tell the reader to focs on everything in the `docs/` folder, and to avoid images and json files. You can also choose to exclude `.ipynb` files, depending on the target repository. However, there are a lot of tutorials with important information in Argilla, we want them included. "
   ]
  },
  {
   "cell_type": "code",
   "execution_count": 5,
   "metadata": {},
   "outputs": [],
   "source": [
    "documents = GithubRepositoryReader(\n",
    "    github_client=github_client,\n",
    "    owner=owner,\n",
    "    repo=repo,\n",
    "    use_parser=False,\n",
    "    verbose=False,\n",
    "    filter_directories=(\n",
    "        [\"docs\"],\n",
    "        GithubRepositoryReader.FilterType.INCLUDE,\n",
    "    ),\n",
    "    filter_file_extensions=(\n",
    "        [\n",
    "            \".png\",\n",
    "            \".jpg\",\n",
    "            \".jpeg\",\n",
    "            \".gif\",\n",
    "            \".svg\",\n",
    "            \".ico\",\n",
    "            \"json\",\n",
    "        ],\n",
    "        GithubRepositoryReader.FilterType.EXCLUDE,\n",
    "    ),\n",
    ").load_data(branch=branch)"
   ]
  },
  {
   "cell_type": "markdown",
   "metadata": {},
   "source": [
    "## Create the index and start asking questions"
   ]
  },
  {
   "cell_type": "markdown",
   "metadata": {},
   "source": [
    "Now, let's create a LlamaIndex index out of this document, and we can start querying the RAG system."
   ]
  },
  {
   "cell_type": "code",
   "execution_count": 8,
   "metadata": {},
   "outputs": [
    {
     "data": {
      "text/html": [
       "<pre style=\"white-space:pre;overflow-x:auto;line-height:normal;font-family:Menlo,'DejaVu Sans Mono',consolas,'Courier New',monospace\">/Users/ignacio/Documents/recognai/argilla-llama-index/.venv/lib/python3.10/site-packages/rich/live.py:231: \n",
       "UserWarning: install \"ipywidgets\" for Jupyter support\n",
       "  warnings.warn('install \"ipywidgets\" for Jupyter support')\n",
       "</pre>\n"
      ],
      "text/plain": [
       "/Users/ignacio/Documents/recognai/argilla-llama-index/.venv/lib/python3.10/site-packages/rich/live.py:231: \n",
       "UserWarning: install \"ipywidgets\" for Jupyter support\n",
       "  warnings.warn('install \"ipywidgets\" for Jupyter support')\n"
      ]
     },
     "metadata": {},
     "output_type": "display_data"
    },
    {
     "data": {
      "text/html": [
       "<pre style=\"white-space:pre;overflow-x:auto;line-height:normal;font-family:Menlo,'DejaVu Sans Mono',consolas,'Courier New',monospace\"></pre>\n"
      ],
      "text/plain": []
     },
     "metadata": {},
     "output_type": "display_data"
    },
    {
     "data": {
      "text/html": [
       "<pre style=\"white-space:pre;overflow-x:auto;line-height:normal;font-family:Menlo,'DejaVu Sans Mono',consolas,'Courier New',monospace\">\n",
       "</pre>\n"
      ],
      "text/plain": [
       "\n"
      ]
     },
     "metadata": {},
     "output_type": "display_data"
    },
    {
     "name": "stdout",
     "output_type": "stream",
     "text": [
      "The FeedbackDataset in Argilla is designed to be a versatile and adaptable dataset that supports a wide range of NLP tasks, including those focused on large language models. It offers the flexibility to handle various NLP tasks within a single coherent user interface, making it particularly useful for workflows involving multiple tasks on the same record. The FeedbackDataset also allows for multiple annotators per record, customizable tasks, and synchronization with a database. However, it currently does not support weak supervision or active learning features.\n"
     ]
    }
   ],
   "source": [
    "index = VectorStoreIndex.from_documents(documents)\n",
    "\n",
    "query_engine = index.as_query_engine()\n",
    "response = query_engine.query(\n",
    "    \"How does an Argilla's Feedback Dataset work?\"\n",
    ")\n",
    "\n",
    "print(response)"
   ]
  },
  {
   "cell_type": "markdown",
   "metadata": {},
   "source": [
    "When the response is generated, it is automatically logged in our Argilla instance. Check it out! From Argilla you can quickly have a look at your predictions and annotate them, so you can combine both synthetic data and human feedback."
   ]
  },
  {
   "cell_type": "markdown",
   "metadata": {},
   "source": [
    "![RAG Example 1](../assets/rag_example_1.png)"
   ]
  },
  {
   "cell_type": "markdown",
   "metadata": {},
   "source": [
    "Let's ask a couple of more questions, to see the overall behaviour of the RAG chatbot. Remember that the answers are being automatically logged to your Argilla instance."
   ]
  },
  {
   "cell_type": "code",
   "execution_count": 19,
   "metadata": {},
   "outputs": [
    {
     "name": "stderr",
     "output_type": "stream",
     "text": [
      "100%|██████████| 4/4 [00:11<00:00,  2.99s/it]"
     ]
    },
    {
     "name": "stdout",
     "output_type": "stream",
     "text": [
      "Question: What types of dataset can I choose from in Argilla?\n",
      "Answer: You can choose between older datasets, which are more tailored to singular NLP tasks, and the FeedbackDataset, which is designed to support a wider range of NLP tasks, including those focused on large language models.\n",
      "----------------------------\n",
      "Question: How can I create and update an Argilla dataset?\n",
      "Answer: To create and update an Argilla dataset, you can follow these steps:\n",
      "- For local `FeedbackDataset` instances, you can add new fields and questions by extending the existing fields and questions lists respectively. You can also remove non-required fields or questions by using the `pop` method.\n",
      "- Metadata properties can be added to both local and remote `FeedbackDataset` instances. For remote instances, you can update metadata properties using the `update_metadata_properties` method and delete metadata properties as needed.\n",
      "- Vector settings can be updated for both local and remote `FeedbackDataset` instances.\n",
      "\n",
      "By following these guidelines, you can effectively create and update an Argilla dataset to suit your specific requirements.\n",
      "----------------------------\n",
      "Question: Can I upload Markdown files into an Argilla dataset?\n",
      "Answer: Yes, you can upload Markdown files into an Argilla dataset. Markdown files can be rendered in the Argilla UI using TextField or TextQuestion components by setting `use_markdown` to `True`. Additionally, multimedia content in Markdown is supported in Argilla, although it is still in the experimental phase with certain limitations related to file sizes and loading times.\n",
      "----------------------------\n",
      "Question: Could you explain how to annotate datasets in Argilla?\n",
      "Answer: To annotate datasets in Argilla, users can utilize the Argilla UI which offers a user-friendly interface for annotating records. Depending on the task type, such as text classification, multi-label text classification, token classification, or Text2Text, different annotation methods are available. Users can select labels that best describe the record, validate predictions, and make changes as needed. The UI provides options to validate, clear, or discard annotations, ensuring efficient and accurate dataset annotation.\n",
      "----------------------------\n"
     ]
    },
    {
     "name": "stderr",
     "output_type": "stream",
     "text": [
      "\n"
     ]
    }
   ],
   "source": [
    "questions = [\n",
    "    \"What types of dataset can I choose from in Argilla?\",\n",
    "    \"How can I create and update an Argilla dataset?\",\n",
    "    \"Can I upload Markdown files into an Argilla dataset?\",\n",
    "    \"Could you explain how to annotate datasets in Argilla?\",\n",
    "]\n",
    "\n",
    "answers = []\n",
    "\n",
    "for question in tqdm(questions):\n",
    "    answers.append(query_engine.query(question))\n",
    "\n",
    "for question, answer in zip(questions, answers):\n",
    "    print(f\"Question: {question}\")\n",
    "    print(f\"Answer: {answer}\")\n",
    "    print(\"----------------------------\")"
   ]
  }
 ],
 "metadata": {
  "kernelspec": {
   "display_name": ".venv",
   "language": "python",
   "name": "python3"
  },
  "language_info": {
   "codemirror_mode": {
    "name": "ipython",
    "version": 3
   },
   "file_extension": ".py",
   "mimetype": "text/x-python",
   "name": "python",
   "nbconvert_exporter": "python",
   "pygments_lexer": "ipython3",
   "version": "3.10.14"
  }
 },
 "nbformat": 4,
 "nbformat_minor": 2
}
