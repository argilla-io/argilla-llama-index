{
 "cells": [
  {
   "cell_type": "code",
   "execution_count": 1,
   "metadata": {},
   "outputs": [],
   "source": [
    "import os\n",
    "import openai\n",
    "\n",
    "os.environ[\"OPENAI_API_KEY\"] = \"sk-...\"\n",
    "openai.api_key = os.environ[\"OPENAI_API_KEY\"]\n",
    "\n",
    "import nest_asyncio\n",
    "\n",
    "nest_asyncio.apply()"
   ]
  },
  {
   "cell_type": "code",
   "execution_count": 2,
   "metadata": {},
   "outputs": [
    {
     "name": "stdout",
     "output_type": "stream",
     "text": [
      "--2024-02-16 12:40:08--  https://www.dropbox.com/s/948jr9cfs7fgj99/UBER.zip?dl=1\n",
      "Resolving www.dropbox.com (www.dropbox.com)... 162.125.68.18\n",
      "Connecting to www.dropbox.com (www.dropbox.com)|162.125.68.18|:443... connected.\n",
      "HTTP request sent, awaiting response... 302 Found\n",
      "Location: /s/dl/948jr9cfs7fgj99/UBER.zip [following]\n",
      "--2024-02-16 12:40:08--  https://www.dropbox.com/s/dl/948jr9cfs7fgj99/UBER.zip\n",
      "Reusing existing connection to www.dropbox.com:443.\n",
      "HTTP request sent, awaiting response... 302 Found\n",
      "Location: https://uc12e8ade4783c2b1ca56bd3c0bc.dl.dropboxusercontent.com/cd/0/get/CNZ34YegqLus9HYCgQeFIJ22DRq2WOYddIjsi55ABfSUgHDFhhp2NHwNpwd26f01lg5xpN03y3xUfD20hjVxsnSPT2oCgvp-Vvn6yKBEMC9qJ3fRFBlOqY7AbQ1MMI0aMBdGbd5f8MmQUZOm0NJNVLgl/file?dl=1# [following]\n",
      "--2024-02-16 12:40:08--  https://uc12e8ade4783c2b1ca56bd3c0bc.dl.dropboxusercontent.com/cd/0/get/CNZ34YegqLus9HYCgQeFIJ22DRq2WOYddIjsi55ABfSUgHDFhhp2NHwNpwd26f01lg5xpN03y3xUfD20hjVxsnSPT2oCgvp-Vvn6yKBEMC9qJ3fRFBlOqY7AbQ1MMI0aMBdGbd5f8MmQUZOm0NJNVLgl/file?dl=1\n",
      "Resolving uc12e8ade4783c2b1ca56bd3c0bc.dl.dropboxusercontent.com (uc12e8ade4783c2b1ca56bd3c0bc.dl.dropboxusercontent.com)... 162.125.68.15\n",
      "Connecting to uc12e8ade4783c2b1ca56bd3c0bc.dl.dropboxusercontent.com (uc12e8ade4783c2b1ca56bd3c0bc.dl.dropboxusercontent.com)|162.125.68.15|:443... connected.\n",
      "HTTP request sent, awaiting response... 200 OK\n",
      "Length: 1820227 (1,7M) [application/binary]\n",
      "Saving to: ‘data/UBER.zip’\n",
      "\n",
      "data/UBER.zip       100%[===================>]   1,74M  5,08MB/s    in 0,3s    \n",
      "\n",
      "2024-02-16 12:40:09 (5,08 MB/s) - ‘data/UBER.zip’ saved [1820227/1820227]\n",
      "\n",
      "Archive:  data/UBER.zip\n",
      "   creating: data/UBER/\n",
      "  inflating: data/UBER/UBER_2021.html  \n",
      "  inflating: data/__MACOSX/UBER/._UBER_2021.html  \n",
      "  inflating: data/UBER/UBER_2020.html  \n",
      "  inflating: data/__MACOSX/UBER/._UBER_2020.html  \n",
      "  inflating: data/UBER/UBER_2019.html  \n",
      "  inflating: data/__MACOSX/UBER/._UBER_2019.html  \n",
      "  inflating: data/UBER/UBER_2022.html  \n",
      "  inflating: data/__MACOSX/UBER/._UBER_2022.html  \n"
     ]
    }
   ],
   "source": [
    "!mkdir data\n",
    "!wget \"https://www.dropbox.com/s/948jr9cfs7fgj99/UBER.zip?dl=1\" -O data/UBER.zip\n",
    "!unzip data/UBER.zip -d data"
   ]
  }
 ],
 "metadata": {
  "kernelspec": {
   "display_name": ".venv",
   "language": "python",
   "name": "python3"
  },
  "language_info": {
   "codemirror_mode": {
    "name": "ipython",
    "version": 3
   },
   "file_extension": ".py",
   "mimetype": "text/x-python",
   "name": "python",
   "nbconvert_exporter": "python",
   "pygments_lexer": "ipython3",
   "version": "3.10.13"
  }
 },
 "nbformat": 4,
 "nbformat_minor": 2
}
